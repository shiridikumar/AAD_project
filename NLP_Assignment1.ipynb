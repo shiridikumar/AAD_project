{
  "nbformat": 4,
  "nbformat_minor": 0,
  "metadata": {
    "colab": {
      "name": "NLP_Assignment1.ipynb",
      "provenance": [],
      "collapsed_sections": [],
      "authorship_tag": "ABX9TyPqoFQ8NifRsgUYs8kulLqN",
      "include_colab_link": true
    },
    "kernelspec": {
      "name": "python3",
      "display_name": "Python 3"
    },
    "language_info": {
      "name": "python"
    }
  },
  "cells": [
    {
      "cell_type": "markdown",
      "metadata": {
        "id": "view-in-github",
        "colab_type": "text"
      },
      "source": [
        "<a href=\"https://colab.research.google.com/github/shiridikumar/AAD_project/blob/master/NLP_Assignment1.ipynb\" target=\"_parent\"><img src=\"https://colab.research.google.com/assets/colab-badge.svg\" alt=\"Open In Colab\"/></a>"
      ]
    },
    {
      "cell_type": "code",
      "execution_count": 2,
      "metadata": {
        "colab": {
          "base_uri": "https://localhost:8080/"
        },
        "id": "kdNMtmaY8UvO",
        "outputId": "1bcaca77-d2e9-4d6b-ac8d-3eed8f49a688"
      },
      "outputs": [
        {
          "output_type": "stream",
          "name": "stdout",
          "text": [
            "Mounted at /content/drive\n"
          ]
        }
      ],
      "source": [
        "from google.colab import drive\n",
        "drive.mount('/content/drive')"
      ]
    },
    {
      "cell_type": "code",
      "source": [
        "import nltk\n",
        "import pandas as pd\n",
        "import numpy as np"
      ],
      "metadata": {
        "id": "u67ZaPce-xAI"
      },
      "execution_count": 4,
      "outputs": []
    },
    {
      "cell_type": "code",
      "source": [
        "tweets=[]\n",
        "tweets_corpus=open(\"/content/drive/MyDrive/intro_to_nlp_asign1/general-tweets.txt\",\"r\")\n",
        "for i in tweets_corpus.readlines():\n",
        "  tweets.append(i);\n",
        "tweets=np.array(tweets)"
      ],
      "metadata": {
        "id": "dTpnfGrA_FCg"
      },
      "execution_count": 5,
      "outputs": []
    },
    {
      "cell_type": "code",
      "source": [
        "#for URL substitutuion\n",
        "import re\n",
        "\n",
        "text=tweets[20]\n",
        "def tokenize(text):\n",
        "  x = re.sub(\"https?:\\/\\/[a-zA-Z0-9]+\\.[a-zA-Z0-9@:%._\\+~#=><!]+(\\/[a-zA-Z0-9@:%._\\+~#=\\?]+)*\" ,\"<URL>\",text)\n",
        "  text=x\n",
        "\n",
        "  #for Hshtag substituion\n",
        "  x=re.sub(\"\\s#([^\\s^\\n])*|^#([^\\s^\\n])*\",\" <HASHTAG>\",text)\n",
        "  text=x\n",
        "\n",
        "\n",
        "  #for mentions\n",
        "  x=re.sub(\"\\s@[^\\s^\\n]*|^@[^\\s^\\n]*\",\" <MENTION>\",text)\n",
        "  text=x\n",
        "\n",
        "  #for removing redundant punctuations\n",
        "  a=list(\"@:%_~#=><!,~-\")\n",
        "  for i in range(len(a)):\n",
        "    string=\"{}+\".format(a[i])\n",
        "    x=re.sub(string,a[i],text)\n",
        "    text=x\n",
        "\n",
        "  special_char=list(\".?^%$*+/()\")\n",
        "  for i in range(len(special_char)):\n",
        "    string=\"\\{}+\".format(special_char[i])\n",
        "    x=re.sub(string,\"{}\".format(special_char[i]),text)\n",
        "    text=x\n",
        "  \n",
        "\n",
        "  text=re.sub(\"[\\s]+\",\" \",text)\n",
        "  tokens=text.split()\n",
        "  for i in range(len(tokens)):\n",
        "    if(tokens[i]!= \"<MENTION>\" and tokens[i]!=\"<URL>\" and tokens[i]!=\"<HASHTAG>\" and tokens[i]!=\"<s>\" and tokens[i]!=\"<\\s>\"):\n",
        "\n",
        "      for j in range(len(a)):\n",
        "        string=\"([\\w]+){}\".format(a[j])\n",
        "        tokens[i]=re.sub(string,r\"\\1 {}\".format(a[j]),tokens[i])\n",
        "        string=\"{}([\\w]+)\".format(a[j])\n",
        "        tokens[i]=re.sub(string,r\"{} \\1\".format(a[j]),tokens[i])\n",
        "        \n",
        "\n",
        "\n",
        "      for j in range(len(special_char)):\n",
        "        string=\"([\\w]+)\\{}\".format(special_char[j])\n",
        "        tokens[i]=re.sub(string,r\"\\1 {}\".format(special_char[j]),tokens[i])\n",
        "\n",
        "        string=\"\\{}([\\w]+)\".format(special_char[j])\n",
        "        tokens[i]=re.sub(string,r\"{} \\1\".format(special_char[j]),tokens[i])\n",
        "\n",
        "\n",
        "  tokens=\" \".join(tokens)\n",
        "  tokens=\"<s> \"+tokens+\" </s>\"\n",
        "  tokens=tokens.lower()\n",
        "  text=re.sub(\"[\\s]+\",\" \",tokens)\n",
        "  tokens=text.split()\n",
        "  return tokens"
      ],
      "metadata": {
        "id": "Bf3CTYiGAm_0"
      },
      "execution_count": 108,
      "outputs": []
    },
    {
      "cell_type": "code",
      "source": [
        "text=\"#ieroween THE STORY OF IEROWEEN! THE VIDEO ->>>>>>>>>>>>>>>>>>>>>> http://bit.ly/2VFPAV <<<< JUST FOR FRANK !!! Ã§ %@&*@#$!@# #asdasda asda@asda$%^$3\"\n",
        "print(tokenize(\"i can do anything for anyone\"))"
      ],
      "metadata": {
        "colab": {
          "base_uri": "https://localhost:8080/"
        },
        "id": "am9XODo4C6UK",
        "outputId": "e77f960b-5f36-4c0c-e230-b83fac2f9104"
      },
      "execution_count": 7,
      "outputs": [
        {
          "output_type": "stream",
          "name": "stdout",
          "text": [
            "['<s>', 'i', 'can', 'do', 'anything', 'for', 'anyone', '</s>']\n"
          ]
        }
      ]
    },
    {
      "cell_type": "code",
      "source": [
        "text=\"hello!sdasdasda\"\n",
        "x=re.sub(\"!\",\" ! \",text)\n",
        "print(x)"
      ],
      "metadata": {
        "colab": {
          "base_uri": "https://localhost:8080/"
        },
        "id": "u8uRNInbBlka",
        "outputId": "ac0cacac-3236-417c-95ed-84534f026fb4"
      },
      "execution_count": 8,
      "outputs": [
        {
          "output_type": "stream",
          "name": "stdout",
          "text": [
            "hello ! sdasdasda\n"
          ]
        }
      ]
    },
    {
      "cell_type": "code",
      "source": [
        "europarl=[]\n",
        "europarl_corpus=open(\"/content/drive/MyDrive/intro_to_nlp_asign1/europarl-corpus.txt\",\"r\")\n",
        "for i in europarl_corpus.readlines():\n",
        "  europarl.append(i)\n",
        "europarl=np.array(europarl)"
      ],
      "metadata": {
        "id": "lu3Uwrl54zB1"
      },
      "execution_count": 9,
      "outputs": []
    },
    {
      "cell_type": "code",
      "source": [
        "ngrams=[]\n",
        "europarltokens=[\"\"]*len(europarl)\n",
        "n=2\n",
        "for i in range(len(europarl)):\n",
        "  europarltokens[i]=tokenize(europarl[i])"
      ],
      "metadata": {
        "id": "uhhhjkyzfbIz"
      },
      "execution_count": 10,
      "outputs": []
    },
    {
      "cell_type": "code",
      "source": [
        "print(europarl[1])"
      ],
      "metadata": {
        "colab": {
          "base_uri": "https://localhost:8080/"
        },
        "id": "9svl-4brYqZx",
        "outputId": "e2bbf405-0110-49d4-b5c4-b66eab8b5c01"
      },
      "execution_count": 153,
      "outputs": [
        {
          "output_type": "stream",
          "name": "stdout",
          "text": [
            "I declare resumed the session of the European Parliament adjourned on Friday 17 December 1999, and I would like once again to wish you a happy new year in the hope that you enjoyed a pleasant festive period.\n",
            "\n"
          ]
        }
      ]
    },
    {
      "cell_type": "code",
      "source": [
        "def get_ngrams(n,text):\n",
        "  ngrams=list(zip(*[text[i:] for i in range(n)]))\n",
        "  return ngrams"
      ],
      "metadata": {
        "id": "quiIXNQx08ZO"
      },
      "execution_count": 58,
      "outputs": []
    },
    {
      "cell_type": "code",
      "source": [
        "get_ngrams(4,tokenize(tweets[13]))"
      ],
      "metadata": {
        "id": "NUHyzlko1Osn",
        "colab": {
          "base_uri": "https://localhost:8080/"
        },
        "outputId": "6155a644-4622-4879-af2b-425016d8d39a"
      },
      "execution_count": 59,
      "outputs": [
        {
          "output_type": "execute_result",
          "data": {
            "text/plain": [
              "[('<s>', 'well', 'i', \"can't\"),\n",
              " ('well', 'i', \"can't\", 'spell'),\n",
              " ('i', \"can't\", 'spell', 'it'),\n",
              " (\"can't\", 'spell', 'it', 'out'),\n",
              " ('spell', 'it', 'out', 'for'),\n",
              " ('it', 'out', 'for', 'you'),\n",
              " ('out', 'for', 'you', '.'),\n",
              " ('for', 'you', '.', \"it's\"),\n",
              " ('you', '.', \"it's\", 'never'),\n",
              " ('.', \"it's\", 'never', 'gonna'),\n",
              " (\"it's\", 'never', 'gonna', 'be'),\n",
              " ('never', 'gonna', 'be', 'that'),\n",
              " ('gonna', 'be', 'that', 'simple'),\n",
              " ('be', 'that', 'simple', '.'),\n",
              " ('that', 'simple', '.', '</s>')]"
            ]
          },
          "metadata": {},
          "execution_count": 59
        }
      ]
    },
    {
      "cell_type": "code",
      "source": [
        "for i in range(10):\n",
        "  print(europarltokens[i])"
      ],
      "metadata": {
        "id": "4HDfIrmGpSny"
      },
      "execution_count": null,
      "outputs": []
    },
    {
      "cell_type": "code",
      "source": [
        "vocab=set()\n",
        "for i in range(len(europarltokens)):\n",
        "  vocab=set(europarltokens[i]).union(vocab)"
      ],
      "metadata": {
        "id": "r4ujebzEJk_E"
      },
      "execution_count": 76,
      "outputs": []
    },
    {
      "cell_type": "code",
      "source": [
        "ngrams=[]\n",
        "for i in range(len(europarltokens)):\n",
        "  ngrams.extend(get_ngrams(2,europarltokens[i]))\n",
        "\n",
        "nminus=[]\n",
        "for i in range(len(europarltokens)):\n",
        "  nminus.extend(get_ngrams(1,europarltokens[i]))"
      ],
      "metadata": {
        "id": "QlbfVDHTghb9"
      },
      "execution_count": 129,
      "outputs": []
    },
    {
      "cell_type": "markdown",
      "source": [
        "#Just viewing first 10 ngrams"
      ],
      "metadata": {
        "id": "4NXKdzKVS-xq"
      }
    },
    {
      "cell_type": "code",
      "source": [
        "for i in range(10):\n",
        "  print(ngrams[i])"
      ],
      "metadata": {
        "colab": {
          "base_uri": "https://localhost:8080/"
        },
        "id": "sJV5J9G6yMee",
        "outputId": "e24f7e9c-17af-4da6-9f4e-12b6169920f0"
      },
      "execution_count": 130,
      "outputs": [
        {
          "output_type": "stream",
          "name": "stdout",
          "text": [
            "('<s>', 'resumption')\n",
            "('resumption', 'of')\n",
            "('of', 'the')\n",
            "('the', 'session')\n",
            "('session', '</s>')\n",
            "('<s>', 'i')\n",
            "('i', 'declare')\n",
            "('declare', 'resumed')\n",
            "('resumed', 'the')\n",
            "('the', 'session')\n"
          ]
        }
      ]
    },
    {
      "cell_type": "markdown",
      "source": [
        "#Counts of n grams"
      ],
      "metadata": {
        "id": "eJMfAPZgS6wb"
      }
    },
    {
      "cell_type": "code",
      "source": [
        "from collections import Counter\n",
        "count_ngrams=Counter(ngrams)\n"
      ],
      "metadata": {
        "id": "mZG5CKrKyrdr"
      },
      "execution_count": 131,
      "outputs": []
    },
    {
      "cell_type": "markdown",
      "source": [
        "#Counts of n-1 grams"
      ],
      "metadata": {
        "id": "yHZeRSWmS1sm"
      }
    },
    {
      "cell_type": "code",
      "source": [
        "count_nminus=Counter(nminus)\n"
      ],
      "metadata": {
        "id": "6MTjUOtFzUzE"
      },
      "execution_count": 132,
      "outputs": []
    },
    {
      "cell_type": "markdown",
      "source": [
        "#Total number of ngrams which have count of 1\n"
      ],
      "metadata": {
        "id": "mBPuuxvKSuJb"
      }
    },
    {
      "cell_type": "code",
      "source": [
        "count_values=list(count_ngrams.values())\n",
        "n1=count_values.count(1)"
      ],
      "metadata": {
        "id": "t1P-gxF479pa"
      },
      "execution_count": 133,
      "outputs": []
    },
    {
      "cell_type": "markdown",
      "source": [
        "#Kneyser ney Smoothing"
      ],
      "metadata": {
        "id": "xjIKQE8dSnBY"
      }
    },
    {
      "cell_type": "code",
      "source": [
        "total_prob=1\n",
        "total_ngrams=len(vocab)*len(vocab)\n",
        "a=\"I declare resumed the session of the European Parliament adjourned on Friday 17 December 1999, and I would like once again to wish you a happy new year in the hope that you enjoyed a pleasant festive period.\"\n",
        "a=get_ngrams(2,tokenize(a))\n",
        "N=len(count_ngrams)\n",
        "effective_n0_prob=(n1/N)\n",
        "for i in range(len(a)):\n",
        "  if(count_ngrams[a[i]]==0):\n",
        "    total_prob*=effective_n0_prob\n",
        "    print(a[i])\n",
        "    print(\"********\")\n",
        "  else:\n",
        "    denominator=a[i][:-1]\n",
        "    discount_prob=max(count_ngrams[a[i]]-0.75,0)/count_nminus[denominator]\n",
        "    #calculating p_continuation\n",
        "    pconts=len(list(filter(lambda x:x[-1]==a[i][-1],count_ngrams)))\n",
        "    pcont_prob=pconts/N\n",
        "    #finding lambda value\n",
        "    k=0.75/len(list(filter(lambda x:x[:-1]==a[i][:-1],count_ngrams)))\n",
        "\n",
        "    effective_prob=discount_prob+k*pcont_prob\n",
        "    print(effective_prob,discount_prob)\n",
        "    total_prob*=effective_prob\n",
        "print(\"{}\".format(total_prob))\n",
        "print((1/(total_prob))**(1/len(a)))"
      ],
      "metadata": {
        "colab": {
          "base_uri": "https://localhost:8080/"
        },
        "id": "Hj6sb47XzJyo",
        "outputId": "eb0db55e-8cdc-4b9f-c7d9-7a47805d3467"
      },
      "execution_count": 156,
      "outputs": [
        {
          "output_type": "stream",
          "name": "stdout",
          "text": [
            "0.11066371850898644 0.1106625\n",
            "0.0009150614507106 0.0009149529452771\n",
            "0.23214633512952024 0.23214285714285715\n",
            "0.19365610117967852 0.19117647058823528\n",
            "0.00031669735203066195 0.00031667657627381534\n",
            "0.32783152703947355 0.3269230769230769\n",
            "0.3105875487112949 0.310583883329785\n",
            "0.04452237004251539 0.04452214150919008\n",
            "0.14473865320319626 0.14473684210526316\n",
            "0.00435325867360765 0.004353233830845771\n",
            "0.5445053993810729 0.5416666666666666\n",
            "0.0015173971505615732 0.001517371285056509\n",
            "0.020840637105325802 0.020833333333333332\n",
            "0.06250811530221385 0.0625\n",
            "0.18982150993914126 0.18981481481481483\n",
            "0.16144472222163359 0.1609792284866469\n",
            "0.062472359663150616 0.06246553688931368\n",
            "0.03262879069055642 0.03262838826562609\n",
            "0.14818261920037157 0.14817880794701987\n",
            "0.2699530983228547 0.2699511400651466\n",
            "0.006742119077935849 0.006737918215613383\n",
            "0.5414592431631918 0.5414438502673797\n",
            "0.08592459396366624 0.08579335793357934\n",
            "0.00019001162722080464 0.0001899030033890382\n",
            "0.02301900886916793 0.022972972972972974\n",
            "0.0070475396248074465 0.00703125\n",
            "0.00037130494222856804 0.00037125885309572765\n",
            "0.029810944373854197 0.02976190476190476\n",
            "0.0027713739292820395 0.002770935960591133\n",
            "0.04269732883324798 0.042534722222222224\n",
            "0.2695554076634456 0.2695475731276117\n",
            "0.00029087463293013847 0.0002908254271902386\n",
            "0.5575476070430698 0.5573394495412844\n",
            "0.011408549555546418 0.011407624633431085\n",
            "0.00015632082445568454 0.00015625\n",
            "0.06361991170551191 0.0625\n",
            "2.857192894236197e-05 2.8558373315055975e-05\n",
            "0.05000194767253133 0.05\n",
            "0.12514364084918522 0.125\n",
            "0.11313194341067699 0.11265432098765432\n",
            "0.9298112124371876 0.9298080777710964\n",
            "1.308504980384655e-65\n",
            "38.239981514175106\n"
          ]
        }
      ]
    },
    {
      "cell_type": "code",
      "source": [
        ""
      ],
      "metadata": {
        "id": "4zrs8hV4Sk4X"
      },
      "execution_count": null,
      "outputs": []
    }
  ]
}